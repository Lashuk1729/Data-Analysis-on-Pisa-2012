{
 "cells": [
  {
   "cell_type": "markdown",
   "metadata": {},
   "source": [
    "# Data Analysis based on the results of the PISA 2012\n",
    "\n",
    "### Introduction to PISA\n",
    "\n",
    "#### What Is PISA? \n",
    "\n",
    "The Program for International Student Assessment (PISA) is a system of international assessments that allows countries to compare outcomes of learning as students near the end of compulsory schooling. PISA is a unique global survey that examines how well prepared 15 year old students are for life after they have completed school. Approximately a half million students and 65 economies participated in this assessment that deals with reading, math, and science literacy.\n",
    "\n",
    "### Introduction to the PISA 2012 dataset\n",
    "\n",
    "PISA is a survey of students' skills and knowledge as they approach the end of compulsory education. It is not a conventional school test. Rather than examining how well students have learned the school curriculum, it looks at how well prepared they are for life beyond school.\n",
    "\n",
    "Around 510,000 students in 65 economies took part in the PISA 2012 assessment of reading, mathematics and science representing about 28 million 15-year-olds globally. Of those economies, 44 took part in an assessment of creative problem solving and 18 in an assessment of financial literacy. \n",
    "\n",
    "***\n",
    "\n",
    "##  Part 1: Data Wrangling\n",
    "\n",
    "Since the dataset provided has _636_ variables (according to its specified data dictionary), we will begin our exploration by wrangling the data accordingly, in order to better understand which variables might be worth delving into."
   ]
  },
  {
   "cell_type": "code",
   "execution_count": 1,
   "metadata": {},
   "outputs": [],
   "source": [
    "# for Data Processing and Reading the Dataset\n",
    "import numpy as np\n",
    "import pandas as pd\n",
    "\n",
    "# for any warnings\n",
    "import warnings\n",
    "warnings.filterwarnings('ignore')"
   ]
  },
  {
   "cell_type": "code",
   "execution_count": 2,
   "metadata": {},
   "outputs": [],
   "source": [
    "chunksize = 50000\n",
    "\n",
    "tp = pd.read_csv(\n",
    "    'pisa2012.csv',\n",
    "    encoding='latin1',\n",
    "    index_col=0,\n",
    "    dtype={15: str, 16: str, 17: str, 21: str, 22: str, 23: str, 24: str, 25: str, 26: str, 37: str,\n",
    "           45: str, 65: str, 123: str, 156: str, 157: str, 158: str, 159: str, 160: str, 161: str,\n",
    "           162: str, 163: str, 164: str, 165: str, 166: str, 167: str, 168: str, 169: str, 170: str,\n",
    "           171: str, 284: str, 285: str, 286: str, 287: str, 288: str, 289: str, 290: str, 291: str,\n",
    "           292: str, 293: str, 294: str, 295: str, 296: str, 297: str, 298: str, 299: str, 300: str,\n",
    "           301: str, 302: str, 303: str, 307: str, 308: str, 309: str, 310: str, 311: str, 312: str,\n",
    "           313: str, 314: str, 315: str, 316: str, 317: str, 318: str, 319: str, 320: str, 321: str,\n",
    "           322: str, 323: str, 324: str, 325: str, 326: str, 327: str, 328: str, 329: str, 330: str,\n",
    "           331: str, 332: str, 333: str, 334: str, 335: str, 336: str, 337: str, 338: str, 339: str,\n",
    "           340: str, 341: str, 342: str, 343: str, 344: str, 345: str, 346: str, 347: str, 348: str,\n",
    "           349: str, 350: str, 351: str, 352: str, 353: str, 354: str, 355: str, 356: str, 357: str,\n",
    "           376: str, 377: str, 378: str, 379: str, 380: str, 381: str, 382: str, 383: str, 384: str,\n",
    "           385: str, 386: str, 387: str, 388: str, 389: str, 390: str, 391: str, 392: str, 393: str,\n",
    "           394: str, 395: str, 396: str, 397: str, 398: str, 399: str, 400: str, 401: str, 402: str,\n",
    "           403: str, 475: str, 30: str, 31: str, 36: str, 155: str},\n",
    "    iterator=True,\n",
    "    chunksize=chunksize\n",
    ")\n",
    "\n",
    "df_list = []\n",
    "\n",
    "for df in tp:\n",
    "    df = df[['NC', 'AGE',\n",
    "             'ST04Q01', 'ST26Q02', 'ST26Q03', 'ST26Q04', 'ST26Q05', 'ST26Q06', \n",
    "             'ST26Q07', 'ST26Q08', 'ST26Q09', 'ST26Q10', 'ST26Q11', 'ST26Q12', \n",
    "             'PV1MATH','PV2MATH','PV3MATH', 'PV4MATH','PV5MATH', 'PV1READ','PV2READ',\n",
    "             'PV3READ','PV4READ','PV5READ', 'PV1SCIE','PV2SCIE','PV3SCIE','PV4SCIE',\n",
    "             'PV5SCIE','COBN_F','COBN_M', 'ST15Q01', 'ST19Q01']]\n",
    "    \n",
    "    df_list.append(df)\n",
    "    \n",
    "df_student = pd.concat(df_list)"
   ]
  },
  {
   "cell_type": "code",
   "execution_count": 3,
   "metadata": {
    "scrolled": false
   },
   "outputs": [
    {
     "name": "stdout",
     "output_type": "stream",
     "text": [
      "<class 'pandas.core.frame.DataFrame'>\n",
      "Int64Index: 485490 entries, 1 to 485490\n",
      "Data columns (total 33 columns):\n",
      "NC         485490 non-null object\n",
      "AGE        485374 non-null float64\n",
      "ST04Q01    485490 non-null object\n",
      "ST26Q02    469693 non-null object\n",
      "ST26Q03    472020 non-null object\n",
      "ST26Q04    473877 non-null object\n",
      "ST26Q05    463178 non-null object\n",
      "ST26Q06    473182 non-null object\n",
      "ST26Q07    465860 non-null object\n",
      "ST26Q08    467094 non-null object\n",
      "ST26Q09    467249 non-null object\n",
      "ST26Q10    471242 non-null object\n",
      "ST26Q11    463566 non-null object\n",
      "ST26Q12    474039 non-null object\n",
      "PV1MATH    485490 non-null float64\n",
      "PV2MATH    485490 non-null float64\n",
      "PV3MATH    485490 non-null float64\n",
      "PV4MATH    485490 non-null float64\n",
      "PV5MATH    485490 non-null float64\n",
      "PV1READ    485490 non-null float64\n",
      "PV2READ    485490 non-null float64\n",
      "PV3READ    485490 non-null float64\n",
      "PV4READ    485490 non-null float64\n",
      "PV5READ    485490 non-null float64\n",
      "PV1SCIE    485490 non-null float64\n",
      "PV2SCIE    485490 non-null float64\n",
      "PV3SCIE    485490 non-null float64\n",
      "PV4SCIE    485490 non-null float64\n",
      "PV5SCIE    485490 non-null float64\n",
      "COBN_F     481825 non-null object\n",
      "COBN_M     481843 non-null object\n",
      "ST15Q01    467751 non-null object\n",
      "ST19Q01    451410 non-null object\n",
      "dtypes: float64(16), object(17)\n",
      "memory usage: 125.9+ MB\n"
     ]
    },
    {
     "data": {
      "text/html": [
       "<div>\n",
       "<style scoped>\n",
       "    .dataframe tbody tr th:only-of-type {\n",
       "        vertical-align: middle;\n",
       "    }\n",
       "\n",
       "    .dataframe tbody tr th {\n",
       "        vertical-align: top;\n",
       "    }\n",
       "\n",
       "    .dataframe thead th {\n",
       "        text-align: right;\n",
       "    }\n",
       "</style>\n",
       "<table border=\"1\" class=\"dataframe\">\n",
       "  <thead>\n",
       "    <tr style=\"text-align: right;\">\n",
       "      <th></th>\n",
       "      <th>NC</th>\n",
       "      <th>AGE</th>\n",
       "      <th>ST04Q01</th>\n",
       "      <th>ST26Q02</th>\n",
       "      <th>ST26Q03</th>\n",
       "      <th>ST26Q04</th>\n",
       "      <th>ST26Q05</th>\n",
       "      <th>ST26Q06</th>\n",
       "      <th>ST26Q07</th>\n",
       "      <th>ST26Q08</th>\n",
       "      <th>...</th>\n",
       "      <th>PV5READ</th>\n",
       "      <th>PV1SCIE</th>\n",
       "      <th>PV2SCIE</th>\n",
       "      <th>PV3SCIE</th>\n",
       "      <th>PV4SCIE</th>\n",
       "      <th>PV5SCIE</th>\n",
       "      <th>COBN_F</th>\n",
       "      <th>COBN_M</th>\n",
       "      <th>ST15Q01</th>\n",
       "      <th>ST19Q01</th>\n",
       "    </tr>\n",
       "  </thead>\n",
       "  <tbody>\n",
       "    <tr>\n",
       "      <td>1</td>\n",
       "      <td>Albania</td>\n",
       "      <td>16.17</td>\n",
       "      <td>Female</td>\n",
       "      <td>No</td>\n",
       "      <td>Yes</td>\n",
       "      <td>No</td>\n",
       "      <td>No</td>\n",
       "      <td>No</td>\n",
       "      <td>No</td>\n",
       "      <td>Yes</td>\n",
       "      <td>...</td>\n",
       "      <td>218.5981</td>\n",
       "      <td>341.7009</td>\n",
       "      <td>408.8400</td>\n",
       "      <td>348.2283</td>\n",
       "      <td>367.8105</td>\n",
       "      <td>392.9877</td>\n",
       "      <td>Albania</td>\n",
       "      <td>Albania</td>\n",
       "      <td>Other (e.g. home duties, retired)</td>\n",
       "      <td>Working part-time &lt;for pay&gt;</td>\n",
       "    </tr>\n",
       "    <tr>\n",
       "      <td>2</td>\n",
       "      <td>Albania</td>\n",
       "      <td>16.17</td>\n",
       "      <td>Female</td>\n",
       "      <td>Yes</td>\n",
       "      <td>Yes</td>\n",
       "      <td>Yes</td>\n",
       "      <td>Yes</td>\n",
       "      <td>Yes</td>\n",
       "      <td>Yes</td>\n",
       "      <td>Yes</td>\n",
       "      <td>...</td>\n",
       "      <td>396.7618</td>\n",
       "      <td>548.9929</td>\n",
       "      <td>471.5964</td>\n",
       "      <td>471.5964</td>\n",
       "      <td>443.6218</td>\n",
       "      <td>454.8116</td>\n",
       "      <td>Albania</td>\n",
       "      <td>Albania</td>\n",
       "      <td>Working full-time &lt;for pay&gt;</td>\n",
       "      <td>Working full-time &lt;for pay&gt;</td>\n",
       "    </tr>\n",
       "    <tr>\n",
       "      <td>3</td>\n",
       "      <td>Albania</td>\n",
       "      <td>15.58</td>\n",
       "      <td>Female</td>\n",
       "      <td>Yes</td>\n",
       "      <td>Yes</td>\n",
       "      <td>Yes</td>\n",
       "      <td>No</td>\n",
       "      <td>Yes</td>\n",
       "      <td>Yes</td>\n",
       "      <td>Yes</td>\n",
       "      <td>...</td>\n",
       "      <td>401.2100</td>\n",
       "      <td>499.6643</td>\n",
       "      <td>428.7952</td>\n",
       "      <td>492.2044</td>\n",
       "      <td>512.7191</td>\n",
       "      <td>499.6643</td>\n",
       "      <td>Albania</td>\n",
       "      <td>Albania</td>\n",
       "      <td>Working full-time &lt;for pay&gt;</td>\n",
       "      <td>Working full-time &lt;for pay&gt;</td>\n",
       "    </tr>\n",
       "    <tr>\n",
       "      <td>4</td>\n",
       "      <td>Albania</td>\n",
       "      <td>15.67</td>\n",
       "      <td>Female</td>\n",
       "      <td>Yes</td>\n",
       "      <td>Yes</td>\n",
       "      <td>Yes</td>\n",
       "      <td>Yes</td>\n",
       "      <td>Yes</td>\n",
       "      <td>Yes</td>\n",
       "      <td>Yes</td>\n",
       "      <td>...</td>\n",
       "      <td>471.9036</td>\n",
       "      <td>438.6796</td>\n",
       "      <td>481.5740</td>\n",
       "      <td>448.9370</td>\n",
       "      <td>474.1141</td>\n",
       "      <td>426.5573</td>\n",
       "      <td>Albania</td>\n",
       "      <td>Albania</td>\n",
       "      <td>Working full-time &lt;for pay&gt;</td>\n",
       "      <td>Working full-time &lt;for pay&gt;</td>\n",
       "    </tr>\n",
       "    <tr>\n",
       "      <td>5</td>\n",
       "      <td>Albania</td>\n",
       "      <td>15.50</td>\n",
       "      <td>Female</td>\n",
       "      <td>Yes</td>\n",
       "      <td>No</td>\n",
       "      <td>Yes</td>\n",
       "      <td>Yes</td>\n",
       "      <td>Yes</td>\n",
       "      <td>Yes</td>\n",
       "      <td>Yes</td>\n",
       "      <td>...</td>\n",
       "      <td>260.1405</td>\n",
       "      <td>361.5628</td>\n",
       "      <td>275.7740</td>\n",
       "      <td>372.7527</td>\n",
       "      <td>403.5248</td>\n",
       "      <td>422.1746</td>\n",
       "      <td>Albania</td>\n",
       "      <td>Albania</td>\n",
       "      <td>Working part-time &lt;for pay&gt;</td>\n",
       "      <td>Working part-time &lt;for pay&gt;</td>\n",
       "    </tr>\n",
       "  </tbody>\n",
       "</table>\n",
       "<p>5 rows × 33 columns</p>\n",
       "</div>"
      ],
      "text/plain": [
       "        NC    AGE ST04Q01 ST26Q02 ST26Q03 ST26Q04 ST26Q05 ST26Q06 ST26Q07  \\\n",
       "1  Albania  16.17  Female      No     Yes      No      No      No      No   \n",
       "2  Albania  16.17  Female     Yes     Yes     Yes     Yes     Yes     Yes   \n",
       "3  Albania  15.58  Female     Yes     Yes     Yes      No     Yes     Yes   \n",
       "4  Albania  15.67  Female     Yes     Yes     Yes     Yes     Yes     Yes   \n",
       "5  Albania  15.50  Female     Yes      No     Yes     Yes     Yes     Yes   \n",
       "\n",
       "  ST26Q08  ...   PV5READ   PV1SCIE   PV2SCIE   PV3SCIE   PV4SCIE   PV5SCIE  \\\n",
       "1     Yes  ...  218.5981  341.7009  408.8400  348.2283  367.8105  392.9877   \n",
       "2     Yes  ...  396.7618  548.9929  471.5964  471.5964  443.6218  454.8116   \n",
       "3     Yes  ...  401.2100  499.6643  428.7952  492.2044  512.7191  499.6643   \n",
       "4     Yes  ...  471.9036  438.6796  481.5740  448.9370  474.1141  426.5573   \n",
       "5     Yes  ...  260.1405  361.5628  275.7740  372.7527  403.5248  422.1746   \n",
       "\n",
       "    COBN_F   COBN_M                             ST15Q01  \\\n",
       "1  Albania  Albania  Other (e.g. home duties, retired)    \n",
       "2  Albania  Albania        Working full-time <for pay>    \n",
       "3  Albania  Albania        Working full-time <for pay>    \n",
       "4  Albania  Albania        Working full-time <for pay>    \n",
       "5  Albania  Albania         Working part-time <for pay>   \n",
       "\n",
       "                        ST19Q01  \n",
       "1   Working part-time <for pay>  \n",
       "2  Working full-time <for pay>   \n",
       "3  Working full-time <for pay>   \n",
       "4  Working full-time <for pay>   \n",
       "5   Working part-time <for pay>  \n",
       "\n",
       "[5 rows x 33 columns]"
      ]
     },
     "execution_count": 3,
     "metadata": {},
     "output_type": "execute_result"
    }
   ],
   "source": [
    "df_student.info()\n",
    "df_student.head()"
   ]
  },
  {
   "cell_type": "markdown",
   "metadata": {},
   "source": [
    "Before we begin visualizing the data, further wrangling needs to be done in order to ensure clarily of information when working with the dataset."
   ]
  },
  {
   "cell_type": "code",
   "execution_count": 4,
   "metadata": {},
   "outputs": [
    {
     "data": {
      "text/plain": [
       "False"
      ]
     },
     "execution_count": 4,
     "metadata": {},
     "output_type": "execute_result"
    }
   ],
   "source": [
    "df_student.duplicated().any()"
   ]
  },
  {
   "cell_type": "markdown",
   "metadata": {},
   "source": [
    "Correctly categorize countries under Country: \n",
    "- Replace values of _'Florida (USA)'_,_'Massachusetts (USA)'_, and _'Connecticut (USA)'_ with _'United States of America'_\n",
    "- Replace values of _'China (Shanghai)'_,_'China-Macau'_, _'Hong Kong-China_ and _'Macao-China'_ with _'China'_\n",
    "- Replace values of _'Chinese Taipei'_ with _'Taiwan'_\n",
    "- Replace values of _'Republic of Serbia'_ with _'Serbia'_\n",
    "- Replace values of _'Perm (Russian Federation)'_ with _'Russia'_"
   ]
  },
  {
   "cell_type": "code",
   "execution_count": 5,
   "metadata": {},
   "outputs": [],
   "source": [
    "df_student['NC'][df_student['NC']=='Republic of Serbia'] = 'Serbia'\n",
    "df_student['NC'][df_student['NC']=='Slovak Republic'] = 'Slovakia'\n",
    "df_student['NC'][df_student['NC']=='Chinese Taipei '] = 'Taiwan'\n",
    "df_student['NC'][df_student['NC']=='Perm (Russian Federation)'] = 'Russia'\n",
    "df_student['NC'][df_student['NC']=='Hong Kong-China'] = 'China'\n",
    "df_student['NC'][df_student['NC']=='China (Shanghai) '] = 'China'\n",
    "df_student['NC'][df_student['NC']=='China-Macau'] = 'China'\n",
    "df_student['NC'][df_student['NC']=='Macao-China'] = 'China'\n",
    "df_student['NC'][df_student['NC']=='Connecticut (USA)'] = 'United States of America'\n",
    "df_student['NC'][df_student['NC']=='Florida (USA)'] = 'United States of America'\n",
    "df_student['NC'][df_student['NC']=='Massachusetts (USA)'] = 'United States of America'\n",
    "df_student['NC'][df_student['NC']=='Viet Nam '] = 'Vietnam'"
   ]
  },
  {
   "cell_type": "code",
   "execution_count": 6,
   "metadata": {},
   "outputs": [
    {
     "name": "stdout",
     "output_type": "stream",
     "text": [
      "<class 'pandas.core.frame.DataFrame'>\n",
      "Int64Index: 485490 entries, 1 to 485490\n",
      "Data columns (total 33 columns):\n",
      "Country    485490 non-null object\n",
      "Age        485374 non-null float64\n",
      "Gender     485490 non-null object\n",
      "ST26Q02    469693 non-null object\n",
      "ST26Q03    472020 non-null object\n",
      "ST26Q04    473877 non-null object\n",
      "ST26Q05    463178 non-null object\n",
      "ST26Q06    473182 non-null object\n",
      "ST26Q07    465860 non-null object\n",
      "ST26Q08    467094 non-null object\n",
      "ST26Q09    467249 non-null object\n",
      "ST26Q10    471242 non-null object\n",
      "ST26Q11    463566 non-null object\n",
      "ST26Q12    474039 non-null object\n",
      "PV1MATH    485490 non-null float64\n",
      "PV2MATH    485490 non-null float64\n",
      "PV3MATH    485490 non-null float64\n",
      "PV4MATH    485490 non-null float64\n",
      "PV5MATH    485490 non-null float64\n",
      "PV1READ    485490 non-null float64\n",
      "PV2READ    485490 non-null float64\n",
      "PV3READ    485490 non-null float64\n",
      "PV4READ    485490 non-null float64\n",
      "PV5READ    485490 non-null float64\n",
      "PV1SCIE    485490 non-null float64\n",
      "PV2SCIE    485490 non-null float64\n",
      "PV3SCIE    485490 non-null float64\n",
      "PV4SCIE    485490 non-null float64\n",
      "PV5SCIE    485490 non-null float64\n",
      "COBN_F     481825 non-null object\n",
      "COBN_M     481843 non-null object\n",
      "ST15Q01    467751 non-null object\n",
      "ST19Q01    451410 non-null object\n",
      "dtypes: float64(16), object(17)\n",
      "memory usage: 125.9+ MB\n"
     ]
    }
   ],
   "source": [
    "df_student = df_student.rename(columns={'NC':'Country', 'ST04Q01':'Gender', 'AGE':'Age'});\n",
    "df_student.info()"
   ]
  },
  {
   "cell_type": "code",
   "execution_count": 7,
   "metadata": {},
   "outputs": [
    {
     "name": "stdout",
     "output_type": "stream",
     "text": [
      "<class 'pandas.core.frame.DataFrame'>\n",
      "Int64Index: 485490 entries, 1 to 485490\n",
      "Data columns (total 33 columns):\n",
      "Country    485490 non-null object\n",
      "Age        485490 non-null float64\n",
      "Gender     485490 non-null object\n",
      "ST26Q02    469693 non-null object\n",
      "ST26Q03    472020 non-null object\n",
      "ST26Q04    473877 non-null object\n",
      "ST26Q05    463178 non-null object\n",
      "ST26Q06    473182 non-null object\n",
      "ST26Q07    465860 non-null object\n",
      "ST26Q08    467094 non-null object\n",
      "ST26Q09    467249 non-null object\n",
      "ST26Q10    471242 non-null object\n",
      "ST26Q11    463566 non-null object\n",
      "ST26Q12    474039 non-null object\n",
      "PV1MATH    485490 non-null float64\n",
      "PV2MATH    485490 non-null float64\n",
      "PV3MATH    485490 non-null float64\n",
      "PV4MATH    485490 non-null float64\n",
      "PV5MATH    485490 non-null float64\n",
      "PV1READ    485490 non-null float64\n",
      "PV2READ    485490 non-null float64\n",
      "PV3READ    485490 non-null float64\n",
      "PV4READ    485490 non-null float64\n",
      "PV5READ    485490 non-null float64\n",
      "PV1SCIE    485490 non-null float64\n",
      "PV2SCIE    485490 non-null float64\n",
      "PV3SCIE    485490 non-null float64\n",
      "PV4SCIE    485490 non-null float64\n",
      "PV5SCIE    485490 non-null float64\n",
      "COBN_F     481825 non-null object\n",
      "COBN_M     481843 non-null object\n",
      "ST15Q01    467751 non-null object\n",
      "ST19Q01    451410 non-null object\n",
      "dtypes: float64(16), object(17)\n",
      "memory usage: 125.9+ MB\n"
     ]
    }
   ],
   "source": [
    "# Replace NaN age values with the mean age of students in the dataset\n",
    "df_student.loc[np.isfinite(df_student['Age']) == False, 'Age'] = df_student['Age'].mean()\n",
    "df_student.info()"
   ]
  },
  {
   "cell_type": "code",
   "execution_count": 8,
   "metadata": {},
   "outputs": [],
   "source": [
    "# Replace NaN or 'Invalid' values for father/mother birth country to 'Missing', \n",
    "# which is already being used to represent missing information\n",
    "\n",
    "df_student.loc[df_student['ST26Q02'].isna() == True, 'ST26Q02'] = 'Missing'\n",
    "df_student.loc[df_student['ST26Q03'].isna() == True, 'ST26Q03'] = 'Missing'\n",
    "df_student.loc[df_student['ST26Q04'].isna() == True, 'ST26Q04'] = 'Missing'\n",
    "df_student.loc[df_student['ST26Q05'].isna() == True, 'ST26Q05'] = 'Missing'\n",
    "df_student.loc[df_student['ST26Q06'].isna() == True, 'ST26Q06'] = 'Missing'\n",
    "df_student.loc[df_student['ST26Q07'].isna() == True, 'ST26Q07'] = 'Missing'\n",
    "df_student.loc[df_student['ST26Q08'].isna() == True, 'ST26Q08'] = 'Missing'\n",
    "df_student.loc[df_student['ST26Q09'].isna() == True, 'ST26Q09'] = 'Missing'\n",
    "df_student.loc[df_student['ST26Q10'].isna() == True, 'ST26Q10'] = 'Missing'\n",
    "df_student.loc[df_student['ST26Q11'].isna() == True, 'ST26Q11'] = 'Missing'\n",
    "df_student.loc[df_student['ST26Q12'].isna() == True, 'ST26Q12'] = 'Missing'\n",
    "\n",
    "\n",
    "df_student.loc[df_student['ST26Q02'] == 'Invalid', 'ST26Q02'] = 'Missing'\n",
    "df_student.loc[df_student['ST26Q03'] == 'Invalid', 'ST26Q03'] = 'Missing'\n",
    "df_student.loc[df_student['ST26Q04'] == 'Invalid', 'ST26Q04'] = 'Missing'\n",
    "df_student.loc[df_student['ST26Q05'] == 'Invalid', 'ST26Q05'] = 'Missing'\n",
    "df_student.loc[df_student['ST26Q06'] == 'Invalid', 'ST26Q06'] = 'Missing'\n",
    "df_student.loc[df_student['ST26Q07'] == 'Invalid', 'ST26Q07'] = 'Missing'\n",
    "df_student.loc[df_student['ST26Q08'] == 'Invalid', 'ST26Q08'] = 'Missing'\n",
    "df_student.loc[df_student['ST26Q09'] == 'Invalid', 'ST26Q09'] = 'Missing'\n",
    "df_student.loc[df_student['ST26Q10'] == 'Invalid', 'ST26Q10'] = 'Missing'\n",
    "df_student.loc[df_student['ST26Q11'] == 'Invalid', 'ST26Q11'] = 'Missing'\n",
    "df_student.loc[df_student['ST26Q12'] == 'Invalid', 'ST26Q12'] = 'Missing'"
   ]
  },
  {
   "cell_type": "code",
   "execution_count": 9,
   "metadata": {},
   "outputs": [],
   "source": [
    "# Replace NaN or 'Invalid' values for father/mother birth country to 'Missing', \n",
    "# which is already being used to represent missing information\n",
    "\n",
    "df_student.loc[df_student['COBN_F'].isna() == True, 'COBN_F'] = 'Missing'\n",
    "df_student.loc[df_student['COBN_M'].isna() == True, 'COBN_M'] = 'Missing'\n",
    "\n",
    "df_student.loc[df_student['COBN_F'] == 'Invalid', 'COBN_F'] = 'Missing'\n",
    "df_student.loc[df_student['COBN_M'] == 'Invalid', 'COBN_M'] = 'Missing'"
   ]
  },
  {
   "cell_type": "code",
   "execution_count": 10,
   "metadata": {},
   "outputs": [],
   "source": [
    "# Replace NaN or 'Invalid' values for father/mother birth country to 'Missing', \n",
    "# which is already being used to represent missing information\n",
    "\n",
    "df_student.loc[df_student['ST15Q01'].isna() == True, 'ST15Q01'] = 'NA'\n",
    "df_student.loc[df_student['ST19Q01'].isna() == True, 'ST19Q01'] = 'NA'\n",
    "\n",
    "df_student.loc[df_student['ST15Q01'] == 'Invalid', 'ST15Q01'] = 'NA'\n",
    "df_student.loc[df_student['ST19Q01'] == 'Invalid', 'ST19Q01'] = 'NA'\n",
    "\n"
   ]
  },
  {
   "cell_type": "code",
   "execution_count": 11,
   "metadata": {},
   "outputs": [],
   "source": [
    "# Replace the values with shorter values for father/mother job status\n",
    "\n",
    "df_student.loc[df_student['ST15Q01'] == 'Other (e.g. home duties, retired) ', 'ST15Q01'] = 'Other'\n",
    "df_student.loc[df_student['ST19Q01'] == 'Other (e.g. home duties, retired) ', 'ST19Q01'] = 'Other'\n",
    "\n",
    "df_student.loc[df_student['ST15Q01'] == 'Working full-time <for pay> ', 'ST15Q01'] = 'Full-time'\n",
    "df_student.loc[df_student['ST19Q01'] == 'Working full-time <for pay> ', 'ST19Q01'] = 'Full-time'\n",
    "\n",
    "df_student.loc[df_student['ST15Q01'] == 'Working part-time <for pay>', 'ST15Q01'] = 'Part-time'\n",
    "df_student.loc[df_student['ST19Q01'] == 'Working part-time <for pay>', 'ST19Q01'] = 'Part-time'\n",
    "\n",
    "df_student.loc[df_student['ST15Q01'] == 'Not working, but looking for a job ', 'ST15Q01'] = 'Unemployed'\n",
    "df_student.loc[df_student['ST19Q01'] == 'Not working, but looking for a job', 'ST19Q01'] = 'Unemployed'"
   ]
  },
  {
   "cell_type": "code",
   "execution_count": 12,
   "metadata": {},
   "outputs": [
    {
     "name": "stdout",
     "output_type": "stream",
     "text": [
      "<class 'pandas.core.frame.DataFrame'>\n",
      "Int64Index: 485490 entries, 1 to 485490\n",
      "Data columns (total 33 columns):\n",
      "Country    485490 non-null object\n",
      "Age        485490 non-null float64\n",
      "Gender     485490 non-null object\n",
      "ST26Q02    485490 non-null object\n",
      "ST26Q03    485490 non-null object\n",
      "ST26Q04    485490 non-null object\n",
      "ST26Q05    485490 non-null object\n",
      "ST26Q06    485490 non-null object\n",
      "ST26Q07    485490 non-null object\n",
      "ST26Q08    485490 non-null object\n",
      "ST26Q09    485490 non-null object\n",
      "ST26Q10    485490 non-null object\n",
      "ST26Q11    485490 non-null object\n",
      "ST26Q12    485490 non-null object\n",
      "PV1MATH    485490 non-null float64\n",
      "PV2MATH    485490 non-null float64\n",
      "PV3MATH    485490 non-null float64\n",
      "PV4MATH    485490 non-null float64\n",
      "PV5MATH    485490 non-null float64\n",
      "PV1READ    485490 non-null float64\n",
      "PV2READ    485490 non-null float64\n",
      "PV3READ    485490 non-null float64\n",
      "PV4READ    485490 non-null float64\n",
      "PV5READ    485490 non-null float64\n",
      "PV1SCIE    485490 non-null float64\n",
      "PV2SCIE    485490 non-null float64\n",
      "PV3SCIE    485490 non-null float64\n",
      "PV4SCIE    485490 non-null float64\n",
      "PV5SCIE    485490 non-null float64\n",
      "COBN_F     485490 non-null object\n",
      "COBN_M     485490 non-null object\n",
      "ST15Q01    485490 non-null object\n",
      "ST19Q01    485490 non-null object\n",
      "dtypes: float64(16), object(17)\n",
      "memory usage: 125.9+ MB\n"
     ]
    }
   ],
   "source": [
    "df_student.info()"
   ]
  },
  {
   "cell_type": "code",
   "execution_count": 13,
   "metadata": {},
   "outputs": [],
   "source": [
    "# Check if there are any columns which still have unwrangled NA values\n",
    "# If this function prints a column, it will also show the total number of NA values in the column, otherwise nothing will print\n",
    "# The ideal case is that this function does not print anything, meaning there are no more NA values in our working dataset\n",
    "\n",
    "for column in df_student.columns:\n",
    "    if (df_student[column].isna().sum() > 0):\n",
    "        print((column) + '  ' + str(df_student[column].isna().sum()))"
   ]
  },
  {
   "cell_type": "markdown",
   "metadata": {},
   "source": [
    "Within the dataset, for each literacy subject, there are 5 plausible scores of performance recorded for a student. We will compute the actual score of the student by taking the average of the 5 plausible scores, as performed below:"
   ]
  },
  {
   "cell_type": "code",
   "execution_count": 14,
   "metadata": {},
   "outputs": [],
   "source": [
    "# Compute the average of plausible scores determines the PISA score of a student in a particular subject\n",
    "\n",
    "df_student['Maths Score'] = (df_student['PV1MATH'] + df_student['PV2MATH'] + df_student['PV3MATH'] + df_student['PV4MATH'] + df_student['PV5MATH']) / 5\n",
    "df_student['Reading Score'] = (df_student['PV1READ'] + df_student['PV2READ'] + df_student['PV3READ'] + df_student['PV4READ'] + df_student['PV5READ']) / 5\n",
    "df_student['Science Score'] = (df_student['PV1SCIE'] + df_student['PV2SCIE'] + df_student['PV3SCIE'] + df_student['PV4SCIE'] + df_student['PV5SCIE']) / 5"
   ]
  },
  {
   "cell_type": "code",
   "execution_count": null,
   "metadata": {},
   "outputs": [],
   "source": [
    "# source: https://stackoverflow.com/questions/38313770/count-the-number-of-specific-values-in-a-pandas-dataframe\n",
    "# Create Number of Possession column\n",
    "df_student['Possessions'] = (df_student.iloc[:,3:13] == 'Yes').sum(axis=1)"
   ]
  },
  {
   "cell_type": "code",
   "execution_count": null,
   "metadata": {},
   "outputs": [],
   "source": [
    "# Drop any further-unnecessary columns\n",
    "\n",
    "df_student.drop(columns = ['ST26Q02', 'ST26Q03', 'ST26Q04', 'ST26Q05', 'ST26Q06',\n",
    "                   'ST26Q07', 'ST26Q08', 'ST26Q09', 'ST26Q10', 'ST26Q11', 'ST26Q12',\n",
    "                   'PV1MATH', 'PV2MATH', 'PV3MATH', 'PV4MATH', 'PV5MATH', \n",
    "                   'PV1READ', 'PV2READ', 'PV3READ', 'PV4READ', 'PV5READ',\n",
    "                   'PV1SCIE', 'PV2SCIE', 'PV3SCIE', 'PV4SCIE', 'PV5SCIE'], inplace = True)"
   ]
  },
  {
   "cell_type": "code",
   "execution_count": null,
   "metadata": {},
   "outputs": [],
   "source": [
    "# Rename columns appropriately\n",
    "\n",
    "df_student.rename({'COBN_F' : 'Birth Country Father', \n",
    "                   'COBN_M' : 'Birth Country Mother'}, \n",
    "                  axis = 'columns', inplace = True)"
   ]
  },
  {
   "cell_type": "code",
   "execution_count": null,
   "metadata": {},
   "outputs": [],
   "source": [
    "# Rename columns appropriately\n",
    "\n",
    "df_student.rename({ 'ST19Q01' : 'Job_Status_Father',\n",
    "                    'ST15Q01' : 'Job_Status_Mother'}, \n",
    "                  axis = 'columns', inplace = True)"
   ]
  },
  {
   "cell_type": "code",
   "execution_count": null,
   "metadata": {},
   "outputs": [],
   "source": [
    "df_student.info()"
   ]
  },
  {
   "cell_type": "markdown",
   "metadata": {},
   "source": [
    "Since we need to find out whether a student comes from a homogenous or heterogenous family background, we will perform feature engineering to create a variable which tells us this information."
   ]
  },
  {
   "cell_type": "code",
   "execution_count": null,
   "metadata": {},
   "outputs": [],
   "source": [
    "df_student['Parents - Same Cultural Background'] = (df_student['Birth Country Father'] == df_student['Birth Country Mother'])"
   ]
  },
  {
   "cell_type": "code",
   "execution_count": null,
   "metadata": {},
   "outputs": [],
   "source": [
    "df_student.loc[df_student['Parents - Same Cultural Background'] == True, 'Parents - Same Cultural Background'] = 'Same'\n",
    "df_student.loc[df_student['Parents - Same Cultural Background'] == False, 'Parents - Same Cultural Background'] = 'Different'"
   ]
  },
  {
   "cell_type": "markdown",
   "metadata": {},
   "source": [
    "#### The final form of the wrangled working dataset looks as seen below:"
   ]
  },
  {
   "cell_type": "code",
   "execution_count": null,
   "metadata": {
    "scrolled": false
   },
   "outputs": [],
   "source": [
    "df_student.head()"
   ]
  },
  {
   "cell_type": "code",
   "execution_count": null,
   "metadata": {},
   "outputs": [],
   "source": [
    "df_student.drop(columns = ['Birth Country Father','Birth Country Mother'], inplace = True)"
   ]
  },
  {
   "cell_type": "code",
   "execution_count": null,
   "metadata": {
    "scrolled": false
   },
   "outputs": [],
   "source": [
    "df_student.shape\n",
    "df_student.info()"
   ]
  },
  {
   "cell_type": "markdown",
   "metadata": {},
   "source": [
    "### Complete! Our dataset is looking good! :)"
   ]
  },
  {
   "cell_type": "code",
   "execution_count": null,
   "metadata": {},
   "outputs": [],
   "source": [
    "df_student.to_pickle('pisa_2012_clean.pkl')"
   ]
  },
  {
   "cell_type": "code",
   "execution_count": null,
   "metadata": {},
   "outputs": [],
   "source": []
  }
 ],
 "metadata": {
  "kernelspec": {
   "display_name": "Python 3",
   "language": "python",
   "name": "python3"
  },
  "language_info": {
   "codemirror_mode": {
    "name": "ipython",
    "version": 3
   },
   "file_extension": ".py",
   "mimetype": "text/x-python",
   "name": "python",
   "nbconvert_exporter": "python",
   "pygments_lexer": "ipython3",
   "version": "3.7.3"
  }
 },
 "nbformat": 4,
 "nbformat_minor": 2
}
