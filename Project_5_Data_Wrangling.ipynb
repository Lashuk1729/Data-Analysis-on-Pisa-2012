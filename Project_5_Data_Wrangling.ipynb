{
 "cells": [
  {
   "cell_type": "markdown",
   "metadata": {},
   "source": [
    "# Data Analysis based on the results of the PISA 2012\n",
    "\n",
    "### Introduction to PISA\n",
    "\n",
    "#### What Is PISA? \n",
    "\n",
    "The Program for International Student Assessment (PISA) is a system of international assessments that allows countries to compare outcomes of learning as students near the end of compulsory schooling. PISA is a unique global survey that examines how well prepared 15 year old students are for life after they have completed school. Approximately a half million students and 65 economies participated in this assessment that deals with reading, math, and science literacy.\n",
    "\n",
    "### Introduction to the PISA 2012 dataset\n",
    "\n",
    "PISA is a survey of students' skills and knowledge as they approach the end of compulsory education. It is not a conventional school test. Rather than examining how well students have learned the school curriculum, it looks at how well prepared they are for life beyond school.\n",
    "\n",
    "Around 510,000 students in 65 economies took part in the PISA 2012 assessment of reading, mathematics and science representing about 28 million 15-year-olds globally. Of those economies, 44 took part in an assessment of creative problem solving and 18 in an assessment of financial literacy. \n",
    "\n",
    "***\n",
    "\n",
    "##  Part 1: Data Wrangling\n",
    "\n",
    "Since the dataset provided has _636_ variables (according to its specified data dictionary), we will begin our exploration by wrangling the data accordingly, in order to better understand which variables might be worth delving into."
   ]
  },
  {
   "cell_type": "code",
   "execution_count": 1,
   "metadata": {},
   "outputs": [],
   "source": [
    "# for Data Processing and Reading the Dataset\n",
    "import numpy as np\n",
    "import pandas as pd\n",
    "\n",
    "# for any warnings\n",
    "import warnings\n",
    "warnings.filterwarnings('ignore')"
   ]
  },
  {
   "cell_type": "code",
   "execution_count": null,
   "metadata": {},
   "outputs": [],
   "source": [
    "chunksize = 50000\n",
    "\n",
    "tp = pd.read_csv(\n",
    "    'pisa2012.csv',\n",
    "    encoding='latin1',\n",
    "    index_col=0,\n",
    "    dtype={15: str, 16: str, 17: str, 21: str, 22: str, 23: str, 24: str, 25: str, 26: str, 37: str,\n",
    "           45: str, 65: str, 123: str, 156: str, 157: str, 158: str, 159: str, 160: str, 161: str,\n",
    "           162: str, 163: str, 164: str, 165: str, 166: str, 167: str, 168: str, 169: str, 170: str,\n",
    "           171: str, 284: str, 285: str, 286: str, 287: str, 288: str, 289: str, 290: str, 291: str,\n",
    "           292: str, 293: str, 294: str, 295: str, 296: str, 297: str, 298: str, 299: str, 300: str,\n",
    "           301: str, 302: str, 303: str, 307: str, 308: str, 309: str, 310: str, 311: str, 312: str,\n",
    "           313: str, 314: str, 315: str, 316: str, 317: str, 318: str, 319: str, 320: str, 321: str,\n",
    "           322: str, 323: str, 324: str, 325: str, 326: str, 327: str, 328: str, 329: str, 330: str,\n",
    "           331: str, 332: str, 333: str, 334: str, 335: str, 336: str, 337: str, 338: str, 339: str,\n",
    "           340: str, 341: str, 342: str, 343: str, 344: str, 345: str, 346: str, 347: str, 348: str,\n",
    "           349: str, 350: str, 351: str, 352: str, 353: str, 354: str, 355: str, 356: str, 357: str,\n",
    "           376: str, 377: str, 378: str, 379: str, 380: str, 381: str, 382: str, 383: str, 384: str,\n",
    "           385: str, 386: str, 387: str, 388: str, 389: str, 390: str, 391: str, 392: str, 393: str,\n",
    "           394: str, 395: str, 396: str, 397: str, 398: str, 399: str, 400: str, 401: str, 402: str,\n",
    "           403: str, 475: str, 30: str, 31: str, 36: str, 155: str},\n",
    "    iterator=True,\n",
    "    chunksize=chunksize\n",
    ")\n",
    "\n",
    "df_list = []\n",
    "\n",
    "for df in tp:\n",
    "    df = df[['NC', 'AGE',\n",
    "             'ST04Q01', 'ST26Q02', 'ST26Q03', 'ST26Q04', 'ST26Q05', 'ST26Q06', \n",
    "             'ST26Q07', 'ST26Q08', 'ST26Q09', 'ST26Q10', 'ST26Q11', 'ST26Q12', \n",
    "             'PV1MATH','PV2MATH','PV3MATH', 'PV4MATH','PV5MATH', 'PV1READ','PV2READ',\n",
    "             'PV3READ','PV4READ','PV5READ', 'PV1SCIE','PV2SCIE','PV3SCIE','PV4SCIE',\n",
    "             'PV5SCIE','COBN_F','COBN_M', 'ST15Q01', 'ST19Q01']]\n",
    "    \n",
    "    df_list.append(df)\n",
    "    \n",
    "df_student = pd.concat(df_list)"
   ]
  }
 ],
 "metadata": {
  "kernelspec": {
   "display_name": "Python 3",
   "language": "python",
   "name": "python3"
  },
  "language_info": {
   "codemirror_mode": {
    "name": "ipython",
    "version": 3
   },
   "file_extension": ".py",
   "mimetype": "text/x-python",
   "name": "python",
   "nbconvert_exporter": "python",
   "pygments_lexer": "ipython3",
   "version": "3.7.3"
  }
 },
 "nbformat": 4,
 "nbformat_minor": 2
}
